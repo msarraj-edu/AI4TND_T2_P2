{
 "cells": [
  {
   "cell_type": "markdown",
   "metadata": {},
   "source": [
    "# Project 6: Analyzing Stock Sentiment from Twits\n",
    "## Instructions\n",
    "Each problem consists of a function to implement and instructions on how to implement the function.  The parts of the function that need to be implemented are marked with a `# TODO` comment.\n",
    "\n",
    "## Packages\n",
    "When you implement the functions, you'll only need to you use the packages you've used in the classroom, like [Pandas](https://pandas.pydata.org/) and [Numpy](http://www.numpy.org/). These packages will be imported for you. We recommend you don't add any import statements, otherwise the grader might not be able to run your code.\n",
    "\n",
    "### Load Packages"
   ]
  },
  {
   "cell_type": "code",
   "execution_count": 1,
   "metadata": {},
   "outputs": [],
   "source": [
    "import json\n",
    "import nltk\n",
    "import os\n",
    "import random\n",
    "import re\n",
    "import torch\n",
    "\n",
    "from torch import nn, optim\n",
    "import torch.nn.functional as F"
   ]
  },
  {
   "cell_type": "markdown",
   "metadata": {},
   "source": [
    "## Introduction\n",
    "When deciding the value of a company, it's important to follow the news. For example, a product recall or natural disaster in a company's product chain. You want to be able to turn this information into a signal. Currently, the best tool for the job is a Neural Network. \n",
    "\n",
    "For this project, you'll use posts from the social media site [StockTwits](https://en.wikipedia.org/wiki/StockTwits). The community on StockTwits is full of investors, traders, and entrepreneurs. Each message posted is called a Twit. This is similar to Twitter's version of a post, called a Tweet. You'll build a model around these twits that generate a sentiment score.\n",
    "\n",
    "We've collected a bunch of twits, then hand labeled the sentiment of each. To capture the degree of sentiment, we'll use a five-point scale: very negative, negative, neutral, positive, very positive. Each twit is labeled -2 to 2 in steps of 1, from very negative to very positive respectively. You'll build a sentiment analysis model that will learn to assign sentiment to twits on its own, using this labeled data.\n",
    "\n",
    "The first thing we should to do, is load the data.\n",
    "\n",
    "## Import Twits \n",
    "### Load Twits Data \n",
    "This JSON file contains a list of objects for each twit in the `'data'` field:\n",
    "\n",
    "```\n",
    "{'data':\n",
    "  {'message_body': 'Neutral twit body text here',\n",
    "   'sentiment': 0},\n",
    "  {'message_body': 'Happy twit body text here',\n",
    "   'sentiment': 1},\n",
    "   ...\n",
    "}\n",
    "```\n",
    "\n",
    "The fields represent the following:\n",
    "\n",
    "* `'message_body'`: The text of the twit.\n",
    "* `'sentiment'`: Sentiment score for the twit, ranges from -2 to 2 in steps of 1, with 0 being neutral.\n",
    "\n",
    "\n",
    "To see what the data look like by printing the first 10 twits from the list. "
   ]
  },
  {
   "cell_type": "code",
   "execution_count": 2,
   "metadata": {},
   "outputs": [
    {
     "name": "stdout",
     "output_type": "stream",
     "text": [
      "[{'message_body': '$FITB great buy at 26.00...ill wait', 'sentiment': 2, 'timestamp': '2018-07-01T00:00:09Z'}, {'message_body': '@StockTwits $MSFT', 'sentiment': 1, 'timestamp': '2018-07-01T00:00:42Z'}, {'message_body': '#STAAnalystAlert for $TDG : Jefferies Maintains with a rating of Hold setting target price at USD 350.00. Our own verdict is Buy  http://www.stocktargetadvisor.com/toprating', 'sentiment': 2, 'timestamp': '2018-07-01T00:01:24Z'}, {'message_body': '$AMD I heard there’s a guy who knows someone who thinks somebody knows something - on StockTwits.', 'sentiment': 1, 'timestamp': '2018-07-01T00:01:47Z'}, {'message_body': '$AMD reveal yourself!', 'sentiment': 0, 'timestamp': '2018-07-01T00:02:13Z'}, {'message_body': '$AAPL Why the drop? I warren Buffet taking out his position?', 'sentiment': 1, 'timestamp': '2018-07-01T00:03:10Z'}, {'message_body': '$BA bears have 1 reason on 06-29 to pay more attention https://dividendbot.com?s=BA', 'sentiment': -2, 'timestamp': '2018-07-01T00:04:09Z'}, {'message_body': '$BAC ok good we&#39;re not dropping in price over the weekend, lol', 'sentiment': 1, 'timestamp': '2018-07-01T00:04:17Z'}, {'message_body': '$AMAT - Daily Chart, we need to get back to above 50.', 'sentiment': 2, 'timestamp': '2018-07-01T00:08:01Z'}, {'message_body': '$GME 3% drop per week after spike... if no news in 3 months, back to 12s... if BO, then bingo... what is the odds?', 'sentiment': -2, 'timestamp': '2018-07-01T00:09:03Z'}]\n"
     ]
    }
   ],
   "source": [
    "# with open(os.path.join('..', '..', 'data', 'project_6_stocktwits', 'twits.json'), 'r') as f:\n",
    "with open(os.path.join('.', 'twits.json'), 'r') as f:\n",
    "    twits = json.load(f)\n",
    "\n",
    "print(twits['data'][:10])"
   ]
  },
  {
   "cell_type": "markdown",
   "metadata": {},
   "source": [
    "### Length of Data\n",
    "Now let's look at the number of twits in dataset. Print the number of twits below."
   ]
  },
  {
   "cell_type": "code",
   "execution_count": 3,
   "metadata": {},
   "outputs": [
    {
     "name": "stdout",
     "output_type": "stream",
     "text": [
      "The number of twits in dataset is 1548010\n"
     ]
    }
   ],
   "source": [
    "\"\"\"print out the number of twits\"\"\"\n",
    "\n",
    "# TODO Implement \n",
    "\n",
    "print(f\"The number of twits in dataset is {len(twits['data'])}\")"
   ]
  },
  {
   "cell_type": "markdown",
   "metadata": {},
   "source": [
    "### Split Message Body and Sentiment Score"
   ]
  },
  {
   "cell_type": "code",
   "execution_count": 4,
   "metadata": {},
   "outputs": [],
   "source": [
    "messages = [twit['message_body'] for twit in twits['data']]\n",
    "# Since the sentiment scores are discrete, we'll scale the sentiments to 0 to 4 for use in our network\n",
    "sentiments = [twit['sentiment'] + 2 for twit in twits['data']]"
   ]
  },
  {
   "cell_type": "markdown",
   "metadata": {},
   "source": [
    "## Preprocessing the Data\n",
    "With our data in hand we need to preprocess our text. These twits are collected by filtering on ticker symbols where these are denoted with a leader $ symbol in the twit itself. For example,\n",
    "\n",
    "`{'message_body': 'RT @google Our annual look at the year in Google blogging (and beyond) http://t.co/sptHOAh8 $GOOG',\n",
    " 'sentiment': 0}`\n",
    "\n",
    "The ticker symbols don't provide information on the sentiment, and they are in every twit, so we should remove them. This twit also has the `@google` username, again not providing sentiment information, so we should also remove it. We also see a URL `http://t.co/sptHOAh8`. Let's remove these too.\n",
    "\n",
    "The easiest way to remove specific words or phrases is with regex using the `re` module. You can sub out specific patterns with a space:\n",
    "\n",
    "```python\n",
    "re.sub(pattern, ' ', text)\n",
    "```\n",
    "This will substitute a space with anywhere the pattern matches in the text. Later when we tokenize the text, we'll split appropriately on those spaces."
   ]
  },
  {
   "cell_type": "code",
   "execution_count": 5,
   "metadata": {},
   "outputs": [
    {
     "data": {
      "text/plain": [
       "' ill'"
      ]
     },
     "execution_count": 5,
     "metadata": {},
     "output_type": "execute_result"
    }
   ],
   "source": [
    "re.sub(r'[^a-zA-Z]+',' ', '26.00...ill')"
   ]
  },
  {
   "cell_type": "code",
   "execution_count": 6,
   "metadata": {},
   "outputs": [
    {
     "data": {
      "text/plain": [
       "['2', '6', '.', '0', '0', '.', '.', '.']"
      ]
     },
     "execution_count": 6,
     "metadata": {},
     "output_type": "execute_result"
    }
   ],
   "source": [
    "re.findall(r'[^a-zA-Z]', '26.00...ill')"
   ]
  },
  {
   "cell_type": "markdown",
   "metadata": {},
   "source": [
    "### Pre-Processing"
   ]
  },
  {
   "cell_type": "code",
   "execution_count": 28,
   "metadata": {},
   "outputs": [
    {
     "name": "stderr",
     "output_type": "stream",
     "text": [
      "[nltk_data] Downloading package wordnet to\n",
      "[nltk_data]     C:\\Users\\Mohammed\\AppData\\Roaming\\nltk_data...\n",
      "[nltk_data]   Package wordnet is already up-to-date!\n"
     ]
    }
   ],
   "source": [
    "nltk.download('wordnet')\n",
    "\n",
    "\n",
    "def preprocess(message):\n",
    "    \"\"\"\n",
    "    This function takes a string as input, then performs these operations: \n",
    "        - lowercase\n",
    "        - remove URLs\n",
    "        - remove ticker symbols \n",
    "        - removes punctuation\n",
    "        - tokenize by splitting the string on whitespace \n",
    "        - removes any single character tokens\n",
    "    \n",
    "    Parameters\n",
    "    ----------\n",
    "        message : The text message to be preprocessed.\n",
    "        \n",
    "    Returns\n",
    "    -------\n",
    "        tokens: The preprocessed text into tokens.\n",
    "    \"\"\" \n",
    "    \n",
    "    # Lowercase the twit message\n",
    "    text = message.lower()\n",
    "    \n",
    "    # Replace URLs with a space in the message\n",
    "    text = re.sub(r'http[^\\s]+',' ', text)\n",
    "    \n",
    "    # Replace ticker symbols with a space. The ticker symbols are any stock symbol that starts with $.\n",
    "    text = re.sub(r'\\$\\S+',' ', text)\n",
    "    \n",
    "    # Replace StockTwits usernames with a space. The usernames are any word that starts with @.\n",
    "    text = re.sub(r'@[^\\s]+',' ', text)\n",
    "\n",
    "    # Replace everything not a letter with a space\n",
    "    text = re.sub(r'[^a-zA-Z]+',' ', text)\n",
    "    \n",
    "    # Tokenize by splitting the string on whitespace into a list of words\n",
    "    tokens = text.split()\n",
    "\n",
    "    # Lemmatize words using the WordNetLemmatizer. You can ignore any word that is not longer than one character.\n",
    "    wnl = nltk.stem.WordNetLemmatizer()\n",
    "    tokens = [wnl.lemmatize(word, pos='v') for word in tokens if len(word)>1]\n",
    "    \n",
    "    return tokens"
   ]
  },
  {
   "cell_type": "code",
   "execution_count": 29,
   "metadata": {},
   "outputs": [],
   "source": [
    "# my_text = r\"RT @google Our annual look at the year in Google blogging (and beyond) http://t.co/sptHOAh8 $GOOG \"\n",
    "# my_symbol_pattern = re.compile(r'\\s*\\$\\S+\\s*')\n",
    "# my_symbol_matches = re.finditer(my_symbol_pattern, my_text)\n",
    "# for i,match in enumerate(my_symbol_matches):\n",
    "#     print(i, match)\n",
    "# print(re.sub(r'\\$\\S+',' ', my_text).split())"
   ]
  },
  {
   "cell_type": "markdown",
   "metadata": {},
   "source": [
    "### Preprocess All the Twits \n",
    "Now we can preprocess each of the twits in our dataset. Apply the function `preprocess` to all the twit messages."
   ]
  },
  {
   "cell_type": "code",
   "execution_count": 30,
   "metadata": {},
   "outputs": [],
   "source": [
    "tokenized = [preprocess(message) for message in messages]"
   ]
  },
  {
   "cell_type": "markdown",
   "metadata": {},
   "source": [
    "### Bag of Words\n",
    "Now with all of our messages tokenized, we want to create a vocabulary and count up how often each word appears in our entire corpus. Use the [`Counter`](https://docs.python.org/3.1/library/collections.html#collections.Counter) function to count up all the tokens."
   ]
  },
  {
   "cell_type": "code",
   "execution_count": 31,
   "metadata": {},
   "outputs": [
    {
     "name": "stdout",
     "output_type": "stream",
     "text": [
      "great\n",
      "buy\n",
      "at\n",
      "ill\n",
      "wait\n",
      "staanalystalert\n",
      "for\n",
      "jefferies\n",
      "maintain\n",
      "with\n",
      "rat\n",
      "of\n",
      "hold\n",
      "set\n",
      "target\n",
      "price\n",
      "at\n",
      "usd\n",
      "our\n",
      "own\n",
      "verdict\n",
      "be\n",
      "buy\n",
      "hear\n",
      "there\n",
      "guy\n",
      "who\n",
      "know\n",
      "someone\n",
      "who\n",
      "think\n",
      "somebody\n",
      "know\n",
      "something\n",
      "on\n",
      "stocktwits\n",
      "reveal\n",
      "yourself\n"
     ]
    }
   ],
   "source": [
    "for message in tokenized[:5]:\n",
    "    for word in message:\n",
    "        print(word)"
   ]
  },
  {
   "cell_type": "code",
   "execution_count": 32,
   "metadata": {},
   "outputs": [],
   "source": [
    "from collections import Counter, defaultdict\n",
    "\n",
    "\n",
    "\"\"\"\n",
    "Create a vocabulary by using Bag of words\n",
    "\"\"\"\n",
    "\n",
    "# TODO: Implement \n",
    "\n",
    "bow = defaultdict(int)\n",
    "for message in tokenized:\n",
    "    for word in message:\n",
    "        bow[word] += 1\n",
    "# bow = Counter([i for sub in tokenized for i in sub])\n"
   ]
  },
  {
   "cell_type": "code",
   "execution_count": 33,
   "metadata": {},
   "outputs": [
    {
     "data": {
      "text/plain": [
       "(398753, 167734, 208471, 19007, 1439, 1336)"
      ]
     },
     "execution_count": 33,
     "metadata": {},
     "output_type": "execute_result"
    }
   ],
   "source": [
    "bow['the'],bow['it'],bow['and'],bow['wait'], bow['stocktwits'], bow['msft']\n"
   ]
  },
  {
   "cell_type": "markdown",
   "metadata": {},
   "source": [
    "### Frequency of Words Appearing in Message\n",
    "With our vocabulary, now we'll remove some of the most common words such as 'the', 'and', 'it', etc. These words don't contribute to identifying sentiment and are really common, resulting in a lot of noise in our input. If we can filter these out, then our network should have an easier time learning.\n",
    "\n",
    "We also want to remove really rare words that show up in a only a few twits. Here you'll want to divide the count of each word by the number of messages. Then remove words that only appear in some small fraction of the messages."
   ]
  },
  {
   "cell_type": "code",
   "execution_count": 76,
   "metadata": {},
   "outputs": [
    {
     "name": "stdout",
     "output_type": "stream",
     "text": [
      "most common:  ['at', 'for', 'of', 'be', 'on', 'the', 'to', 'in', 'and', 'this', 'it']\n",
      "21026\n",
      "filtered:  ['great', 'buy', 'ill', 'wait', 'staanalystalert', 'jefferies', 'maintain', 'with', 'rat', 'hold']\n"
     ]
    }
   ],
   "source": [
    "\"\"\"\n",
    "Set the following variables:\n",
    "    freqs\n",
    "    low_cutoff\n",
    "    high_cutoff\n",
    "    K_most_common\n",
    "\"\"\"\n",
    "\n",
    "# TODO Implement \n",
    "\n",
    "# Dictionart that contains the Frequency of words appearing in messages.\n",
    "# The key is the token and the value is the frequency of that word in the corpus.\n",
    "freqs = bow\n",
    "\n",
    "# Float that is the frequency cutoff. Drop words with a frequency that is lower or equal to this number.\n",
    "low_cutoff = 6\n",
    "\n",
    "# Integer that is the cut off for most common words. Drop words that are the `high_cutoff` most common words.\n",
    "high_cutoff = 138450#120000\n",
    "\n",
    "# The k most common words in the corpus. Use `high_cutoff` as the k.\n",
    "K_most_common = [word for word in freqs if freqs[word]>high_cutoff]\n",
    "\n",
    "\n",
    "filtered_words = [word for word in freqs if (freqs[word] > low_cutoff and word not in K_most_common)]\n",
    "print('most common: ',K_most_common)\n",
    "print(len(filtered_words) )\n",
    "print('filtered: ',filtered_words[:10])"
   ]
  },
  {
   "cell_type": "code",
   "execution_count": 66,
   "metadata": {},
   "outputs": [
    {
     "data": {
      "text/plain": [
       "freq    68855\n",
       "Name: with, dtype: int64"
      ]
     },
     "execution_count": 66,
     "metadata": {},
     "output_type": "execute_result"
    }
   ],
   "source": [
    "# import pandas as pd\n",
    "# df_freq = pd.DataFrame(list(freqs.values()), index=list(freqs.keys()), columns=['freq'])\n",
    "# df_freq.head()"
   ]
  },
  {
   "cell_type": "code",
   "execution_count": 77,
   "metadata": {},
   "outputs": [
    {
     "data": {
      "text/html": [
       "<div>\n",
       "<style scoped>\n",
       "    .dataframe tbody tr th:only-of-type {\n",
       "        vertical-align: middle;\n",
       "    }\n",
       "\n",
       "    .dataframe tbody tr th {\n",
       "        vertical-align: top;\n",
       "    }\n",
       "\n",
       "    .dataframe thead th {\n",
       "        text-align: right;\n",
       "    }\n",
       "</style>\n",
       "<table border=\"1\" class=\"dataframe\">\n",
       "  <thead>\n",
       "    <tr style=\"text-align: right;\">\n",
       "      <th></th>\n",
       "      <th>freq</th>\n",
       "    </tr>\n",
       "  </thead>\n",
       "  <tbody>\n",
       "    <tr>\n",
       "      <th>be</th>\n",
       "      <td>581222</td>\n",
       "    </tr>\n",
       "    <tr>\n",
       "      <th>the</th>\n",
       "      <td>398753</td>\n",
       "    </tr>\n",
       "    <tr>\n",
       "      <th>to</th>\n",
       "      <td>379487</td>\n",
       "    </tr>\n",
       "    <tr>\n",
       "      <th>for</th>\n",
       "      <td>273537</td>\n",
       "    </tr>\n",
       "    <tr>\n",
       "      <th>on</th>\n",
       "      <td>241663</td>\n",
       "    </tr>\n",
       "    <tr>\n",
       "      <th>of</th>\n",
       "      <td>211334</td>\n",
       "    </tr>\n",
       "    <tr>\n",
       "      <th>and</th>\n",
       "      <td>208471</td>\n",
       "    </tr>\n",
       "    <tr>\n",
       "      <th>in</th>\n",
       "      <td>205263</td>\n",
       "    </tr>\n",
       "    <tr>\n",
       "      <th>this</th>\n",
       "      <td>203540</td>\n",
       "    </tr>\n",
       "    <tr>\n",
       "      <th>it</th>\n",
       "      <td>167734</td>\n",
       "    </tr>\n",
       "  </tbody>\n",
       "</table>\n",
       "</div>"
      ],
      "text/plain": [
       "        freq\n",
       "be    581222\n",
       "the   398753\n",
       "to    379487\n",
       "for   273537\n",
       "on    241663\n",
       "of    211334\n",
       "and   208471\n",
       "in    205263\n",
       "this  203540\n",
       "it    167734"
      ]
     },
     "execution_count": 77,
     "metadata": {},
     "output_type": "execute_result"
    }
   ],
   "source": [
    "# # df_freq.query('freq > 5').sort_values(by='freq', ascending=False).tail(50)\n",
    "# df_freq.sort_values(by='freq', ascending=False).head(10)"
   ]
  },
  {
   "cell_type": "markdown",
   "metadata": {},
   "source": [
    "### Updating Vocabulary by Removing Filtered Words\n",
    "Let's creat three variables that will help with our vocabulary."
   ]
  },
  {
   "cell_type": "code",
   "execution_count": 78,
   "metadata": {},
   "outputs": [],
   "source": [
    "\"\"\"\n",
    "Set the following variables:\n",
    "    vocab\n",
    "    id2vocab\n",
    "    filtered\n",
    "\"\"\"\n",
    "\n",
    "#TODO Implement\n",
    "\n",
    "# A dictionary for the `filtered_words`. The key is the word and value is an id that represents the word. \n",
    "vocab = {word:i+1 for i,word in enumerate(filtered_words)}\n",
    "# Reverse of the `vocab` dictionary. The key is word id and value is the word. \n",
    "id2vocab = {v:k for k,v in vocab.items()}\n",
    "# tokenized with the words not in `filtered_words` removed.\n",
    "filtered = [[word for word in sub if word in filtered_words] for sub in tokenized]"
   ]
  },
  {
   "cell_type": "markdown",
   "metadata": {},
   "source": [
    "### Balancing the classes\n",
    "Let's do a few last pre-processing steps. If we look at how our twits are labeled, we'll find that 50% of them are neutral. This means that our network will be 50% accurate just by guessing 0 every single time. To help our network learn appropriately, we'll want to balance our classes.\n",
    "That is, make sure each of our different sentiment scores show up roughly as frequently in the data.\n",
    "\n",
    "What we can do here is go through each of our examples and randomly drop twits with neutral sentiment. What should be the probability we drop these twits if we want to get around 20% neutral twits starting at 50% neutral? We should also take this opportunity to remove messages with length 0."
   ]
  },
  {
   "cell_type": "code",
   "execution_count": 79,
   "metadata": {},
   "outputs": [],
   "source": [
    "balanced = {'messages': [], 'sentiments':[]}\n",
    "\n",
    "n_neutral = sum(1 for each in sentiments if each == 2)\n",
    "N_examples = len(sentiments)\n",
    "keep_prob = (N_examples - n_neutral)/4/n_neutral\n",
    "\n",
    "for idx, sentiment in enumerate(sentiments):\n",
    "    message = filtered[idx]\n",
    "    if len(message) == 0:\n",
    "        # skip this message because it has length zero\n",
    "        continue\n",
    "    elif sentiment != 2 or random.random() < keep_prob:\n",
    "        balanced['messages'].append(message)\n",
    "        balanced['sentiments'].append(sentiment) "
   ]
  },
  {
   "cell_type": "markdown",
   "metadata": {},
   "source": [
    "If you did it correctly, you should see the following result "
   ]
  },
  {
   "cell_type": "code",
   "execution_count": 80,
   "metadata": {},
   "outputs": [
    {
     "data": {
      "text/plain": [
       "0.1942282078707846"
      ]
     },
     "execution_count": 80,
     "metadata": {},
     "output_type": "execute_result"
    }
   ],
   "source": [
    "n_neutral = sum(1 for each in balanced['sentiments'] if each == 2)\n",
    "N_examples = len(balanced['sentiments'])\n",
    "n_neutral/N_examples"
   ]
  },
  {
   "cell_type": "markdown",
   "metadata": {},
   "source": [
    "Finally let's convert our tokens into integer ids which we can pass to the network."
   ]
  },
  {
   "cell_type": "code",
   "execution_count": 81,
   "metadata": {},
   "outputs": [],
   "source": [
    "token_ids = [[vocab[word] for word in message] for message in balanced['messages']]\n",
    "sentiments = balanced['sentiments']"
   ]
  },
  {
   "cell_type": "code",
   "execution_count": 82,
   "metadata": {},
   "outputs": [
    {
     "data": {
      "text/plain": [
       "[[1, 2, 3, 4],\n",
       " [5, 6, 7, 8, 9, 10, 11, 12, 13, 14, 15, 16, 17, 2],\n",
       " [18, 19, 20, 21, 22, 23, 21, 24, 25, 22, 26, 27],\n",
       " [30, 31, 32, 33, 34, 35, 36, 37]]"
      ]
     },
     "execution_count": 82,
     "metadata": {},
     "output_type": "execute_result"
    }
   ],
   "source": [
    "token_ids[:4]"
   ]
  },
  {
   "cell_type": "markdown",
   "metadata": {},
   "source": [
    "## Neural Network\n",
    "Now we have our vocabulary which means we can transform our tokens into ids, which are then passed to our network. So, let's define the network now!\n",
    "\n",
    "Here is a nice diagram showing the network we'd like to build: \n",
    "\n",
    "#### Embed -> RNN -> Dense -> Softmax\n",
    "### Implement the text classifier\n",
    "Before we build text classifier, if you remember from the other network that you built in  \"Sentiment Analysis with an RNN\"  exercise  - which there, the network called \" SentimentRNN\", here we named it \"TextClassifer\" - consists of three main parts: 1) init function `__init__` 2) forward pass `forward`  3) hidden state `init_hidden`. \n",
    "\n",
    "This network is pretty similar to the network you built expect in the  `forward` pass, we use softmax instead of sigmoid. The reason we are not using sigmoid is that the output of NN is not a binary. In our network, sentiment scores have 5 possible outcomes. We are looking for an outcome with the highest probability thus softmax is a better choice."
   ]
  },
  {
   "cell_type": "code",
   "execution_count": 83,
   "metadata": {},
   "outputs": [],
   "source": [
    "class TextClassifier(nn.Module):\n",
    "    def __init__(self, vocab_size, embed_size, lstm_size, output_size, lstm_layers=1, dropout=0.1):\n",
    "        \"\"\"\n",
    "        Initialize the model by setting up the layers.\n",
    "        \n",
    "        Parameters\n",
    "        ----------\n",
    "            vocab_size : The vocabulary size.\n",
    "            embed_size : The embedding layer size.\n",
    "            lstm_size : The LSTM layer size.\n",
    "            output_size : The output size.\n",
    "            lstm_layers : The number of LSTM layers.\n",
    "            dropout : The dropout probability.\n",
    "        \"\"\"\n",
    "        \n",
    "        super().__init__()\n",
    "        self.vocab_size = vocab_size\n",
    "        self.embed_size = embed_size\n",
    "        self.lstm_size = lstm_size\n",
    "        self.output_size = output_size\n",
    "        self.lstm_layers = lstm_layers\n",
    "        self.dropout_prob = dropout\n",
    "        \n",
    "        print('INFO: ',vocab_size, embed_size, lstm_size, output_size, lstm_layers, dropout)\n",
    "        \n",
    "        # TODO Implement\n",
    "        \n",
    "        # Setup embedding layer\n",
    "        self.embedding = nn.Embedding(self.vocab_size, self.embed_size).cuda()\n",
    "        self.lstm = nn.LSTM(self.embed_size, self.lstm_size, self.lstm_layers,\n",
    "                           dropout=self.dropout_prob, batch_first=False).cuda()\n",
    "        # Setup additional layers\n",
    "        self.dropout = nn.Dropout(self.dropout_prob).cuda()\n",
    "        \n",
    "        self.fc = nn.Linear(self.lstm_size, self.output_size).cuda()\n",
    "        self.softmax = nn.LogSoftmax(dim=-1).cuda()\n",
    "        \n",
    "\n",
    "\n",
    "    def init_hidden(self, batch_size):\n",
    "        \"\"\" \n",
    "        Initializes hidden state\n",
    "        \n",
    "        Parameters\n",
    "        ----------\n",
    "            batch_size : The size of batches.\n",
    "        \n",
    "        Returns\n",
    "        -------\n",
    "            hidden_state\n",
    "            \n",
    "        \"\"\"\n",
    "        \n",
    "        # TODO Implement \n",
    "        \n",
    "        # Create two new tensors with sizes n_layers x batch_size x hidden_dim,\n",
    "        # initialized to zero, for hidden state and cell state of LSTM\n",
    "        weight = next(self.parameters()).data\n",
    "#         train_on_gpu = torch.cuda.is_available()\n",
    "        if (training_on_gpu):\n",
    "            hidden = (weight.new(self.lstm_layers, batch_size, self.lstm_size).zero_().cuda(),\n",
    "                     weight.new(self.lstm_layers, batch_size, self.lstm_size).zero_().cuda())\n",
    "        else:\n",
    "            hidden = (weight.new(self.lstm_layers, batch_size, self.lstm_size).zero_(),\n",
    "                     weight.new(self.lstm_layers, batch_size, self.lstm_size).zero_())\n",
    "        return hidden\n",
    "\n",
    "\n",
    "    def forward(self, nn_input, hidden_state):\n",
    "        \"\"\"\n",
    "        Perform a forward pass of our model on nn_input.\n",
    "        \n",
    "        Parameters\n",
    "        ----------\n",
    "            nn_input : The batch of input to the NN.\n",
    "            hidden_state : The LSTM hidden state.\n",
    "\n",
    "        Returns\n",
    "        -------\n",
    "            logps: log softmax output\n",
    "            hidden_state: The new hidden state.\n",
    "\n",
    "        \"\"\"\n",
    "        \n",
    "        # TODO Implement \n",
    "        _batch_size = nn_input.size(1)\n",
    "        \n",
    "        embeds = self.embedding(nn_input).cuda()\n",
    "        lstm_out, hidden = self.lstm(embeds, hidden_state)\n",
    "        lstm_out = lstm_out[-1, :,:]\n",
    "        \n",
    "        out = self.dropout(lstm_out)\n",
    "        out = self.fc(out)\n",
    "        \n",
    "        soft_out = self.softmax(out)\n",
    "        \n",
    "        \n",
    "        return soft_out, hidden"
   ]
  },
  {
   "cell_type": "markdown",
   "metadata": {},
   "source": [
    "### View Model"
   ]
  },
  {
   "cell_type": "code",
   "execution_count": 84,
   "metadata": {},
   "outputs": [
    {
     "name": "stdout",
     "output_type": "stream",
     "text": [
      "INFO:  21026 10 6 5 2 0.1\n",
      "tensor([[-1.8267, -1.5151, -1.1546, -1.8474, -1.9210],\n",
      "        [-1.7457, -1.4424, -1.2426, -1.8756, -1.9159],\n",
      "        [-1.7990, -1.4549, -1.1764, -1.9259, -1.9175],\n",
      "        [-1.7268, -1.4463, -1.2580, -1.8620, -1.9164]], device='cuda:0',\n",
      "       grad_fn=<LogSoftmaxBackward>)\n"
     ]
    }
   ],
   "source": [
    "training_on_gpu = True\n",
    "model = TextClassifier(len(vocab), 10, 6, 5, dropout=0.1, lstm_layers=2)\n",
    "model.embedding.weight.data.uniform_(-1, 1)\n",
    "input = torch.randint(0, 1000, (5, 4), dtype=torch.int64).cuda()\n",
    "hidden = model.init_hidden(4)\n",
    "\n",
    "logps, _ = model.forward(input, hidden)\n",
    "print(logps)"
   ]
  },
  {
   "cell_type": "markdown",
   "metadata": {},
   "source": [
    "## Training\n",
    "### DataLoaders and Batching\n",
    "Now we should build a generator that we can use to loop through our data. It'll be more efficient if we can pass our sequences in as batches. Our input tensors should look like `(sequence_length, batch_size)`. So if our sequences are 40 tokens long and we pass in 25 sequences, then we'd have an input size of `(40, 25)`.\n",
    "\n",
    "If we set our sequence length to 40, what do we do with messages that are more or less than 40 tokens? For messages with fewer than 40 tokens, we will pad the empty spots with zeros. We should be sure to **left** pad so that the RNN starts from nothing before going through the data. If the message has 20 tokens, then the first 20 spots of our 40 long sequence will be 0. If a message has more than 40 tokens, we'll just keep the first 40 tokens."
   ]
  },
  {
   "cell_type": "code",
   "execution_count": 85,
   "metadata": {},
   "outputs": [],
   "source": [
    "def dataloader(messages, labels, sequence_length=30, batch_size=32, shuffle=False):\n",
    "    \"\"\" \n",
    "    Build a dataloader.\n",
    "    \"\"\"\n",
    "    if shuffle:\n",
    "        indices = list(range(len(messages)))\n",
    "        random.shuffle(indices)\n",
    "        messages = [messages[idx] for idx in indices]\n",
    "        labels = [labels[idx] for idx in indices]\n",
    "\n",
    "    total_sequences = len(messages)\n",
    "\n",
    "    for ii in range(0, total_sequences, batch_size):\n",
    "        batch_messages = messages[ii: ii+batch_size]\n",
    "        \n",
    "        # First initialize a tensor of all zeros\n",
    "        batch = torch.zeros((sequence_length, len(batch_messages)), dtype=torch.int64)\n",
    "        for batch_num, tokens in enumerate(batch_messages):\n",
    "            token_tensor = torch.tensor(tokens)\n",
    "            # Left pad!\n",
    "            start_idx = max(sequence_length - len(token_tensor), 0)\n",
    "            batch[start_idx:, batch_num] = token_tensor[:sequence_length]\n",
    "        \n",
    "        label_tensor = torch.tensor(labels[ii: ii+len(batch_messages)])\n",
    "        \n",
    "        yield batch, label_tensor"
   ]
  },
  {
   "cell_type": "markdown",
   "metadata": {},
   "source": [
    "### Training and  Validation\n",
    "With our data in nice shape, we'll split it into training and validation sets."
   ]
  },
  {
   "cell_type": "code",
   "execution_count": 86,
   "metadata": {},
   "outputs": [],
   "source": [
    "\"\"\"\n",
    "Split data into training and validation datasets. Use an appropriate split size.\n",
    "The features are the `token_ids` and the labels are the `sentiments`.\n",
    "\"\"\"   \n",
    "\n",
    "# # TODO Implement \n",
    "\n",
    "# train_features = pass\n",
    "# valid_features = pass\n",
    "# train_labels = pass\n",
    "# valid_labels = pass\n",
    "\n",
    "from sklearn.model_selection import train_test_split\n",
    "\n",
    "# Split the 'features' and 'income' data into training and testing sets\n",
    "train_features, valid_features, train_labels, valid_labels = train_test_split(token_ids, \n",
    "                                                    sentiments, \n",
    "                                                    test_size = 0.2, \n",
    "                                                    random_state = 0)"
   ]
  },
  {
   "cell_type": "code",
   "execution_count": 87,
   "metadata": {},
   "outputs": [
    {
     "name": "stdout",
     "output_type": "stream",
     "text": [
      "INFO:  21027 200 128 5 1 0.0\n",
      "<class 'torch.Tensor'>\n",
      "torch.Size([64, 5])\n"
     ]
    }
   ],
   "source": [
    "text_batch, labels = next(iter(dataloader(train_features, train_labels, sequence_length=20, batch_size=64)))\n",
    "model = TextClassifier(len(vocab)+1, 200, 128, 5, dropout=0.)\n",
    "hidden = model.init_hidden(64)\n",
    "print(type(text_batch))\n",
    "logps, hidden = model.forward(text_batch.cuda(), hidden)\n",
    "print(logps.size())"
   ]
  },
  {
   "cell_type": "markdown",
   "metadata": {},
   "source": [
    "### Training\n",
    "It's time to train the neural network!"
   ]
  },
  {
   "cell_type": "code",
   "execution_count": 88,
   "metadata": {},
   "outputs": [
    {
     "name": "stdout",
     "output_type": "stream",
     "text": [
      "INFO:  21027 1024 512 5 2 0.2\n"
     ]
    },
    {
     "data": {
      "text/plain": [
       "TextClassifier(\n",
       "  (embedding): Embedding(21027, 1024)\n",
       "  (lstm): LSTM(1024, 512, num_layers=2, dropout=0.2)\n",
       "  (dropout): Dropout(p=0.2)\n",
       "  (fc): Linear(in_features=512, out_features=5, bias=True)\n",
       "  (softmax): LogSoftmax()\n",
       ")"
      ]
     },
     "execution_count": 88,
     "metadata": {},
     "output_type": "execute_result"
    }
   ],
   "source": [
    "device = torch.device(\"cuda\" if torch.cuda.is_available() else \"cpu\")\n",
    "\n",
    "model = TextClassifier(len(vocab)+1, 1024, 512, 5, lstm_layers=2, dropout=0.2)\n",
    "model.embedding.weight.data.uniform_(-1, 1)\n",
    "model.to(device)"
   ]
  },
  {
   "cell_type": "code",
   "execution_count": 90,
   "metadata": {},
   "outputs": [
    {
     "name": "stdout",
     "output_type": "stream",
     "text": [
      "Starting epoch 1\n",
      "Epoch 1/5.. Train loss: 0.876.. Test loss: 0.00185.. Test accuracy: 0.491\n",
      "Epoch 1/5.. Train loss: 0.826.. Test loss: 0.00179.. Test accuracy: 0.500\n",
      "Epoch 1/5.. Train loss: 0.811.. Test loss: 0.00174.. Test accuracy: 0.504\n",
      "Epoch 1/5.. Train loss: 0.787.. Test loss: 0.00184.. Test accuracy: 0.488\n",
      "Epoch 1/5.. Train loss: 0.780.. Test loss: 0.00177.. Test accuracy: 0.497\n",
      "Epoch 1/5.. Train loss: 0.768.. Test loss: 0.00228.. Test accuracy: 0.426\n",
      "Epoch 1/5.. Train loss: 0.766.. Test loss: 0.00188.. Test accuracy: 0.478\n",
      "Epoch 1/5.. Train loss: 0.752.. Test loss: 0.00186.. Test accuracy: 0.484\n",
      "Epoch 1/5.. Train loss: 0.749.. Test loss: 0.00177.. Test accuracy: 0.495\n",
      "Epoch 1/5.. Train loss: 0.738.. Test loss: 0.00194.. Test accuracy: 0.476\n",
      "Epoch 1/5.. Train loss: 0.727.. Test loss: 0.00182.. Test accuracy: 0.493\n",
      "Epoch 1/5.. Train loss: 0.730.. Test loss: 0.00192.. Test accuracy: 0.473\n",
      "Epoch 1/5.. Train loss: 0.728.. Test loss: 0.00195.. Test accuracy: 0.469\n",
      "Epoch 1/5.. Train loss: 0.717.. Test loss: 0.00181.. Test accuracy: 0.496\n",
      "Epoch 1/5.. Train loss: 0.712.. Test loss: 0.00192.. Test accuracy: 0.486\n",
      "Epoch 1/5.. Train loss: 0.714.. Test loss: 0.00179.. Test accuracy: 0.498\n",
      "Starting epoch 2\n",
      "Epoch 2/5.. Train loss: 0.728.. Test loss: 0.00173.. Test accuracy: 0.509\n",
      "Epoch 2/5.. Train loss: 0.669.. Test loss: 0.00175.. Test accuracy: 0.505\n",
      "Epoch 2/5.. Train loss: 0.673.. Test loss: 0.00190.. Test accuracy: 0.491\n",
      "Epoch 2/5.. Train loss: 0.672.. Test loss: 0.00175.. Test accuracy: 0.509\n",
      "Epoch 2/5.. Train loss: 0.671.. Test loss: 0.00188.. Test accuracy: 0.491\n",
      "Epoch 2/5.. Train loss: 0.679.. Test loss: 0.00168.. Test accuracy: 0.516\n",
      "Epoch 2/5.. Train loss: 0.672.. Test loss: 0.00172.. Test accuracy: 0.514\n",
      "Epoch 2/5.. Train loss: 0.670.. Test loss: 0.00182.. Test accuracy: 0.499\n",
      "Epoch 2/5.. Train loss: 0.678.. Test loss: 0.00181.. Test accuracy: 0.499\n",
      "Epoch 2/5.. Train loss: 0.668.. Test loss: 0.00178.. Test accuracy: 0.503\n",
      "Epoch 2/5.. Train loss: 0.667.. Test loss: 0.00183.. Test accuracy: 0.496\n",
      "Epoch 2/5.. Train loss: 0.665.. Test loss: 0.00189.. Test accuracy: 0.491\n",
      "Epoch 2/5.. Train loss: 0.667.. Test loss: 0.00185.. Test accuracy: 0.497\n",
      "Epoch 2/5.. Train loss: 0.661.. Test loss: 0.00181.. Test accuracy: 0.500\n",
      "Epoch 2/5.. Train loss: 0.660.. Test loss: 0.00179.. Test accuracy: 0.501\n",
      "Epoch 2/5.. Train loss: 0.666.. Test loss: 0.00171.. Test accuracy: 0.512\n",
      "Starting epoch 3\n",
      "Epoch 3/5.. Train loss: 0.658.. Test loss: 0.00166.. Test accuracy: 0.528\n",
      "Epoch 3/5.. Train loss: 0.608.. Test loss: 0.00167.. Test accuracy: 0.524\n",
      "Epoch 3/5.. Train loss: 0.610.. Test loss: 0.00167.. Test accuracy: 0.528\n",
      "Epoch 3/5.. Train loss: 0.612.. Test loss: 0.00175.. Test accuracy: 0.516\n",
      "Epoch 3/5.. Train loss: 0.613.. Test loss: 0.00173.. Test accuracy: 0.520\n",
      "Epoch 3/5.. Train loss: 0.615.. Test loss: 0.00173.. Test accuracy: 0.520\n",
      "Epoch 3/5.. Train loss: 0.615.. Test loss: 0.00169.. Test accuracy: 0.521\n",
      "Epoch 3/5.. Train loss: 0.619.. Test loss: 0.00165.. Test accuracy: 0.529\n",
      "Epoch 3/5.. Train loss: 0.619.. Test loss: 0.00166.. Test accuracy: 0.526\n",
      "Epoch 3/5.. Train loss: 0.614.. Test loss: 0.00176.. Test accuracy: 0.515\n",
      "Epoch 3/5.. Train loss: 0.616.. Test loss: 0.00171.. Test accuracy: 0.519\n",
      "Epoch 3/5.. Train loss: 0.619.. Test loss: 0.00168.. Test accuracy: 0.525\n",
      "Epoch 3/5.. Train loss: 0.623.. Test loss: 0.00180.. Test accuracy: 0.513\n",
      "Epoch 3/5.. Train loss: 0.623.. Test loss: 0.00168.. Test accuracy: 0.525\n",
      "Epoch 3/5.. Train loss: 0.616.. Test loss: 0.00168.. Test accuracy: 0.529\n",
      "Epoch 3/5.. Train loss: 0.616.. Test loss: 0.00160.. Test accuracy: 0.534\n",
      "Starting epoch 4\n",
      "Epoch 4/5.. Train loss: 0.589.. Test loss: 0.00171.. Test accuracy: 0.533\n",
      "Epoch 4/5.. Train loss: 0.540.. Test loss: 0.00169.. Test accuracy: 0.535\n",
      "Epoch 4/5.. Train loss: 0.549.. Test loss: 0.00171.. Test accuracy: 0.531\n",
      "Epoch 4/5.. Train loss: 0.548.. Test loss: 0.00171.. Test accuracy: 0.535\n",
      "Epoch 4/5.. Train loss: 0.556.. Test loss: 0.00165.. Test accuracy: 0.537\n",
      "Epoch 4/5.. Train loss: 0.554.. Test loss: 0.00177.. Test accuracy: 0.526\n",
      "Epoch 4/5.. Train loss: 0.562.. Test loss: 0.00172.. Test accuracy: 0.529\n",
      "Epoch 4/5.. Train loss: 0.557.. Test loss: 0.00169.. Test accuracy: 0.533\n",
      "Epoch 4/5.. Train loss: 0.557.. Test loss: 0.00160.. Test accuracy: 0.544\n",
      "Epoch 4/5.. Train loss: 0.561.. Test loss: 0.00164.. Test accuracy: 0.536\n",
      "Epoch 4/5.. Train loss: 0.563.. Test loss: 0.00181.. Test accuracy: 0.518\n",
      "Epoch 4/5.. Train loss: 0.561.. Test loss: 0.00168.. Test accuracy: 0.531\n",
      "Epoch 4/5.. Train loss: 0.562.. Test loss: 0.00169.. Test accuracy: 0.532\n",
      "Epoch 4/5.. Train loss: 0.567.. Test loss: 0.00175.. Test accuracy: 0.527\n",
      "Epoch 4/5.. Train loss: 0.566.. Test loss: 0.00174.. Test accuracy: 0.529\n",
      "Epoch 4/5.. Train loss: 0.564.. Test loss: 0.00171.. Test accuracy: 0.529\n",
      "Starting epoch 5\n",
      "Epoch 5/5.. Train loss: 0.503.. Test loss: 0.00180.. Test accuracy: 0.539\n",
      "Epoch 5/5.. Train loss: 0.468.. Test loss: 0.00173.. Test accuracy: 0.545\n",
      "Epoch 5/5.. Train loss: 0.472.. Test loss: 0.00169.. Test accuracy: 0.545\n",
      "Epoch 5/5.. Train loss: 0.475.. Test loss: 0.00174.. Test accuracy: 0.541\n",
      "Epoch 5/5.. Train loss: 0.480.. Test loss: 0.00180.. Test accuracy: 0.535\n",
      "Epoch 5/5.. Train loss: 0.484.. Test loss: 0.00178.. Test accuracy: 0.539\n",
      "Epoch 5/5.. Train loss: 0.490.. Test loss: 0.00179.. Test accuracy: 0.539\n",
      "Epoch 5/5.. Train loss: 0.492.. Test loss: 0.00166.. Test accuracy: 0.550\n",
      "Epoch 5/5.. Train loss: 0.496.. Test loss: 0.00179.. Test accuracy: 0.537\n",
      "Epoch 5/5.. Train loss: 0.490.. Test loss: 0.00173.. Test accuracy: 0.542\n",
      "Epoch 5/5.. Train loss: 0.495.. Test loss: 0.00175.. Test accuracy: 0.537\n",
      "Epoch 5/5.. Train loss: 0.504.. Test loss: 0.00175.. Test accuracy: 0.539\n",
      "Epoch 5/5.. Train loss: 0.503.. Test loss: 0.00176.. Test accuracy: 0.539\n",
      "Epoch 5/5.. Train loss: 0.500.. Test loss: 0.00186.. Test accuracy: 0.531\n",
      "Epoch 5/5.. Train loss: 0.499.. Test loss: 0.00175.. Test accuracy: 0.537\n",
      "Epoch 5/5.. Train loss: 0.504.. Test loss: 0.00176.. Test accuracy: 0.538\n"
     ]
    }
   ],
   "source": [
    "\"\"\"\n",
    "Train your model with dropout. Make sure to clip your gradients.\n",
    "Print the training loss, validation loss, and validation accuracy for every 100 steps.\n",
    "\"\"\"\n",
    "\n",
    "epochs = 5\n",
    "batch_size = 512\n",
    "learning_rate = 0.0005\n",
    "\n",
    "running_loss = 0\n",
    "\n",
    "print_every = 100\n",
    "criterion = nn.NLLLoss()\n",
    "optimizer = optim.Adam(model.parameters(), lr=learning_rate)\n",
    "model.train()\n",
    "\n",
    "train_labels = train_labels[:batch_size*int(len(train_labels)/batch_size)]\n",
    "train_features = train_features[:batch_size*int(len(train_features)/batch_size)]\n",
    "valid_labels = valid_labels[:batch_size*int(len(valid_labels)/batch_size)]\n",
    "valid_features = valid_features[:batch_size*int(len(valid_features)/batch_size)]\n",
    "\n",
    "\n",
    "for epoch in range(epochs):\n",
    "    print('Starting epoch {}'.format(epoch + 1))\n",
    "    \n",
    "    steps = 0\n",
    "    for text_batch, labels in dataloader(\n",
    "            train_features, train_labels, batch_size=batch_size, sequence_length=20, shuffle=True):\n",
    "        steps += 1\n",
    "        hidden = model.init_hidden(batch_size)\n",
    "        \n",
    "        # Set Device\n",
    "        text_batch, labels = text_batch.to(device), labels.to(device)\n",
    "        for each in hidden:\n",
    "            each.to(device)\n",
    "        \n",
    "        # TODO Implement: Train Model\n",
    "        optimizer.zero_grad()\n",
    "        output, hidden = model.forward(text_batch, hidden)\n",
    "        loss = criterion(output, labels.long())\n",
    "        loss.backward()\n",
    "        optimizer.step()\n",
    "\n",
    "        running_loss += loss.item()\n",
    "        \n",
    "        if steps % print_every == 0:\n",
    "            test_loss = 0\n",
    "            accuracy = 0\n",
    "            val_h = model.init_hidden(batch_size)\n",
    "            model.eval()\n",
    "            \n",
    "            # TODO Implement: Print metrics\n",
    "            with torch.no_grad():\n",
    "                for inputs, labels in dataloader(\n",
    "            valid_features, valid_labels, batch_size=batch_size, sequence_length=20, shuffle=True):\n",
    "                    inputs, labels = inputs.to(device), labels.to(device)\n",
    "                    val_h = tuple([each.data for each in val_h])\n",
    "                    \n",
    "                    output, val_h = model.forward(inputs, val_h)\n",
    "                    values, indices = torch.max(output, 1)\n",
    "                    \n",
    "                    batch_loss = criterion(output, labels.long())\n",
    "                    \n",
    "                    test_loss += batch_loss.item()   \n",
    "                    \n",
    "                    ps = torch.exp(output)\n",
    "                    top_p, top_class = ps.topk(1, dim=1)\n",
    "                    equals = top_class == labels.view(*top_class.shape)\n",
    "                    accuracy += torch.mean(equals.type(torch.FloatTensor)).item()\n",
    "                    \n",
    "                    \n",
    "            print(f\"Epoch {epoch+1}/{epochs}.. \"\n",
    "                  f\"Train loss: {running_loss/print_every:.3f}.. \"\n",
    "                  f\"Test loss: {test_loss/len(valid_labels):.5f}.. \"\n",
    "                  f\"Test accuracy: {accuracy/batch_size:.3f}\")\n",
    "            running_loss = 0\n",
    "            model.train()"
   ]
  },
  {
   "cell_type": "markdown",
   "metadata": {},
   "source": [
    "## Making Predictions\n",
    "### Prediction \n",
    "Okay, now that you have a trained model, try it on some new twits and see if it works appropriately. Remember that for any new text, you'll need to preprocess it first before passing it to the network. Implement the `predict` function to generate the prediction vector from a message."
   ]
  },
  {
   "cell_type": "code",
   "execution_count": 91,
   "metadata": {},
   "outputs": [],
   "source": [
    "def predict(text, model, vocab):\n",
    "    \"\"\" \n",
    "    Make a prediction on a single sentence.\n",
    "\n",
    "    Parameters\n",
    "    ----------\n",
    "        text : The string to make a prediction on.\n",
    "        model : The model to use for making the prediction.\n",
    "        vocab : Dictionary for word to word ids. The key is the word and the value is the word id.\n",
    "\n",
    "    Returns\n",
    "    -------\n",
    "        pred : Prediction vector\n",
    "    \"\"\"    \n",
    "    \n",
    "    # TODO Implement\n",
    "    \n",
    "    tokens = preprocess(text)\n",
    "    \n",
    "    # Filter non-vocab words\n",
    "    tokens = [word for word in tokens if word in filtered_words]\n",
    "    # Convert words to ids\n",
    "    tokens = [vocab[word] for word in tokens]\n",
    "        \n",
    "    # Adding a batch dimension\n",
    "#     count = 1\n",
    "#     for text_input, labels in dataloader([tokens], [0], sequence_length=20, batch_size=5, shuffle=False):\n",
    "#         print('batch: ', count)\n",
    "#         count += 1\n",
    "#         print(text_input)\n",
    "#         text_input = text_input\n",
    "#     text_input = text_input.cuda()\n",
    "#     # Get the NN output\n",
    "#     hidden = model.init_hidden(5)\n",
    "#     for each in hidden:\n",
    "#         each.to('cuda')\n",
    "#     logps, _ = model.forward(text_input, hidden)\n",
    "    tokens = torch.tensor(tokens).cuda()\n",
    "    tokens = tokens.view(-1, 1)\n",
    "    hidden = model.init_hidden(1)\n",
    "    for each in hidden:\n",
    "        each.to('cuda')\n",
    "    logps, _ = model.forward(tokens, hidden)\n",
    "    # Take the exponent of the NN output to get a range of 0 to 1 for each label.\n",
    "    pred = torch.exp(logps)\n",
    "    \n",
    "    return pred"
   ]
  },
  {
   "cell_type": "code",
   "execution_count": 92,
   "metadata": {},
   "outputs": [
    {
     "data": {
      "text/plain": [
       "tensor([[1.2033e-04, 3.8170e-02, 1.7041e-02, 7.3291e-01, 2.1176e-01]],\n",
       "       device='cuda:0', grad_fn=<ExpBackward>)"
      ]
     },
     "execution_count": 92,
     "metadata": {},
     "output_type": "execute_result"
    }
   ],
   "source": [
    "text = \"Google is working on self driving cars, I'm bullish on $goog\"\n",
    "model.eval()\n",
    "model.to(\"cuda\")\n",
    "predict(text, model, vocab)"
   ]
  },
  {
   "cell_type": "markdown",
   "metadata": {},
   "source": [
    "### Questions: What is the prediction of the model? What is the uncertainty of the prediction?\n",
    "** The model predicts that the sentiment score is (4/5) with a very high degree of certainty (all values are practically zero expect for the predicted score and 5/5 (which is 0.21). In other words, the prediction is positive with a chance of (0.733 + 0.212 = 0.945)**"
   ]
  },
  {
   "cell_type": "markdown",
   "metadata": {},
   "source": [
    "Now we have a trained model and we can make predictions. We can use this model to track the sentiments of various stocks by predicting the sentiments of twits as they are coming in. Now we have a stream of twits. For each of those twits, pull out the stocks mentioned in them and keep track of the sentiments. Remember that in the twits, ticker symbols are encoded with a dollar sign as the first character, all caps, and 2-4 letters, like $AAPL. Ideally, you'd want to track the sentiments of the stocks in your universe and use this as a signal in your larger model(s).\n",
    "\n",
    "## Testing\n",
    "### Load the Data "
   ]
  },
  {
   "cell_type": "code",
   "execution_count": 93,
   "metadata": {},
   "outputs": [],
   "source": [
    "with open(os.path.join('.', 'test_twits.json'), 'r') as f:\n",
    "    test_data = json.load(f)"
   ]
  },
  {
   "cell_type": "markdown",
   "metadata": {},
   "source": [
    "### Twit Stream"
   ]
  },
  {
   "cell_type": "code",
   "execution_count": 94,
   "metadata": {},
   "outputs": [
    {
     "data": {
      "text/plain": [
       "{'message_body': '$JWN has moved -1.69% on 10-31. Check out the movement and peers at  https://dividendbot.com?s=JWN',\n",
       " 'timestamp': '2018-11-01T00:00:05Z'}"
      ]
     },
     "execution_count": 94,
     "metadata": {},
     "output_type": "execute_result"
    }
   ],
   "source": [
    "def twit_stream():\n",
    "    for twit in test_data['data']:\n",
    "        yield twit\n",
    "\n",
    "next(twit_stream())"
   ]
  },
  {
   "cell_type": "markdown",
   "metadata": {},
   "source": [
    "Using the `prediction` function, let's apply it to a stream of twits."
   ]
  },
  {
   "cell_type": "code",
   "execution_count": 95,
   "metadata": {},
   "outputs": [],
   "source": [
    "def score_twits(stream, model, vocab, universe):\n",
    "    \"\"\" \n",
    "    Given a stream of twits and a universe of tickers, return sentiment scores for tickers in the universe.\n",
    "    \"\"\"\n",
    "    for twit in stream:\n",
    "\n",
    "        # Get the message text\n",
    "        text = twit['message_body']\n",
    "        symbols = re.findall('\\$[A-Z]{2,4}', text)\n",
    "        score = predict(text, model, vocab)\n",
    "\n",
    "        for symbol in symbols:\n",
    "            if symbol in universe:\n",
    "                yield {'symbol': symbol, 'score': score, 'timestamp': twit['timestamp']}"
   ]
  },
  {
   "cell_type": "code",
   "execution_count": 96,
   "metadata": {},
   "outputs": [
    {
     "data": {
      "text/plain": [
       "{'symbol': '$AAPL',\n",
       " 'score': tensor([[0.2232, 0.1400, 0.1038, 0.0967, 0.4363]], device='cuda:0',\n",
       "        grad_fn=<ExpBackward>),\n",
       " 'timestamp': '2018-11-01T00:00:18Z'}"
      ]
     },
     "execution_count": 96,
     "metadata": {},
     "output_type": "execute_result"
    }
   ],
   "source": [
    "universe = {'$BBRY', '$AAPL', '$AMZN', '$BABA', '$YHOO', '$LQMT', '$FB', '$GOOG', '$BBBY', '$JNUG', '$SBUX', '$MU'}\n",
    "score_stream = score_twits(twit_stream(), model, vocab, universe)\n",
    "\n",
    "next(score_stream)"
   ]
  },
  {
   "cell_type": "markdown",
   "metadata": {},
   "source": [
    "That's it. You have successfully built a model for sentiment analysis! "
   ]
  },
  {
   "cell_type": "markdown",
   "metadata": {},
   "source": [
    "## Submission\n",
    "Now that you're done with the project, it's time to submit it. Click the submit button in the bottom right. One of our reviewers will give you feedback on your project with a pass or not passed grade. You can continue to the next section while you wait for feedback."
   ]
  },
  {
   "cell_type": "code",
   "execution_count": null,
   "metadata": {},
   "outputs": [],
   "source": []
  },
  {
   "cell_type": "code",
   "execution_count": null,
   "metadata": {},
   "outputs": [],
   "source": []
  }
 ],
 "metadata": {
  "kernelspec": {
   "display_name": "Python 3",
   "language": "python",
   "name": "python3"
  },
  "language_info": {
   "codemirror_mode": {
    "name": "ipython",
    "version": 3
   },
   "file_extension": ".py",
   "mimetype": "text/x-python",
   "name": "python",
   "nbconvert_exporter": "python",
   "pygments_lexer": "ipython3",
   "version": "3.7.1"
  }
 },
 "nbformat": 4,
 "nbformat_minor": 2
}
